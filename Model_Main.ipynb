{
  "nbformat": 4,
  "nbformat_minor": 0,
  "metadata": {
    "colab": {
      "name": "Model_Main",
      "provenance": [],
      "collapsed_sections": []
    },
    "kernelspec": {
      "display_name": "Python 3",
      "name": "python3"
    }
  },
  "cells": [
    {
      "cell_type": "code",
      "metadata": {
        "id": "qZwUE7fdK3At",
        "colab": {
          "base_uri": "https://localhost:8080/"
        },
        "outputId": "4a52a23c-2535-4fb3-e8e0-a61733596215"
      },
      "source": [
        "import pandas as pd\n",
        "import matplotlib.pyplot as plt\n",
        "import numpy as np\n",
        "import seaborn\n",
        "from scipy.stats import poisson,skellam\n",
        "# importing the tools required for the Poisson regression model\n",
        "import statsmodels.api as sm\n",
        "import statsmodels.formula.api as smf\n",
        "from sklearn.linear_model import LinearRegression\n",
        "from sklearn.preprocessing import PolynomialFeatures\n",
        "from scipy.optimize import minimize"
      ],
      "execution_count": 1,
      "outputs": [
        {
          "output_type": "stream",
          "text": [
            "/usr/local/lib/python3.7/dist-packages/statsmodels/tools/_testing.py:19: FutureWarning: pandas.util.testing is deprecated. Use the functions in the public API at pandas.testing instead.\n",
            "  import pandas.util.testing as tm\n"
          ],
          "name": "stderr"
        }
      ]
    },
    {
      "cell_type": "code",
      "metadata": {
        "id": "y7qbO0L_K7JC",
        "colab": {
          "base_uri": "https://localhost:8080/"
        },
        "outputId": "a76c5e4d-b974-47aa-e2b4-cb7dc4e03f15"
      },
      "source": [
        "MLS2020 = pd.read_csv(\"https://www.football-data.co.uk/new/USA.csv\")\n",
        "#Swed2020 = pd.read_csv(\"https://www.football-data.co.uk/new/SWE.csv\")\n",
        "Nor2020 = pd.read_csv(\"https://www.football-data.co.uk/new/NOR.csv\")\n",
        "#LigaMx2020 = pd.read_csv(\"https://www.football-data.co.uk/new/MEX.csv\")\n",
        "#LigaMx2020 = LigaMx2020[LigaMx2020['Season'] == \"2020/2021\"]\n",
        "Other_2020 = pd.concat([Nor2020,MLS2020],sort = False)\n",
        "#Other_2020 = pd.concat([Swed2020],sort = False)\n",
        "Other_2020 = Other_2020[Other_2020['Season'] == 2021]\n",
        "#Other_2020 = pd.concat([Other_2020, LigaMx2020])\n",
        "Other_2020 = Other_2020[['Home','Away','HG','AG']]\n",
        "Other_2020 = Other_2020.rename(columns={'Home': 'HomeTeam', 'Away': 'AwayTeam'})\n",
        "Other_2020 = Other_2020.rename(columns={'HG': 'FTHG', 'AG': 'FTAG'})\n",
        "\n",
        "epl_1920 = pd.read_csv(\"https://www.football-data.co.uk/mmz4281/2021/E0.csv\")\n",
        "epl_1819 = epl_1920\n",
        "bundes_1920 = pd.read_csv(\"https://www.football-data.co.uk/mmz4281/2021/D1.csv\")\n",
        "ecl_1920 = pd.read_csv(\"https://www.football-data.co.uk/mmz4281/2021/E1.csv\")\n",
        "serieA_1920 = pd.read_csv(\"https://www.football-data.co.uk/mmz4281/2021/I1.csv\")\n",
        "laliga_1920 = pd.read_csv(\"https://www.football-data.co.uk/mmz4281/2021/SP1.csv\")\n",
        "ligue1_1920 = pd.read_csv(\"https://www.football-data.co.uk/mmz4281/2021/F1.csv\")\n",
        "eredivise_1920 = pd.read_csv(\"https://www.football-data.co.uk/mmz4281/2021/N1.csv\")\n",
        "#epl_1819 = pd.concat([epl_1920, bundes_1920, ecl_1920, serieA_1920, laliga_1920, ligue1_1920, eredivise_1920, Other_2020],sort = False)\n",
        "epl_1819 = pd.concat([epl_1920, bundes_1920, ecl_1920, serieA_1920, laliga_1920, eredivise_1920],sort = False)\n",
        "#epl_1819 = pd.concat([epl_1819,ligue1_1920], sort = False)\n",
        "#epl_1819 = pd.concat([epl_1819,ligue1_1920,Other_2020], sort = False)\n",
        "#epl_1819 = pd.concat([epl_1920,bundes_1920,ecl_1920,ligue1_1920], sort = False)\n",
        "\n",
        "epl_1819 = epl_1819[['HomeTeam','AwayTeam','FTHG','FTAG']]\n",
        "epl_1819 = epl_1819.rename(columns={'FTHG': 'HomeGoals', 'FTAG': 'AwayGoals'})\n",
        "\n",
        "\n",
        "'''print(\"List of Teams, it is case sensitive and type it without Quotes!\")'''\n",
        "print('im finally fucking onde')\n",
        "print(np.sort(epl_1819.HomeTeam.unique()))\n",
        "\n",
        "#print(epl_1819.tail(10))\n",
        "#print(epl_1819[\"HomeTeam\"].count())\n",
        "#print(epl_1819[\"AwayTeam\"].count())\n"
      ],
      "execution_count": 2,
      "outputs": [
        {
          "output_type": "stream",
          "text": [
            "im finally fucking onde\n",
            "['AZ Alkmaar' 'Ajax' 'Alaves' 'Arsenal' 'Aston Villa' 'Atalanta'\n",
            " 'Ath Bilbao' 'Ath Madrid' 'Augsburg' 'Barcelona' 'Barnsley'\n",
            " 'Bayern Munich' 'Benevento' 'Betis' 'Bielefeld' 'Birmingham' 'Blackburn'\n",
            " 'Bologna' 'Bournemouth' 'Brentford' 'Brighton' 'Bristol City' 'Burnley'\n",
            " 'Cadiz' 'Cagliari' 'Cardiff' 'Celta' 'Chelsea' 'Coventry' 'Crotone'\n",
            " 'Crystal Palace' 'Den Haag' 'Derby' 'Dortmund' 'Eibar' 'Ein Frankfurt'\n",
            " 'Elche' 'Everton' 'FC Emmen' 'FC Koln' 'Feyenoord' 'Fiorentina'\n",
            " 'For Sittard' 'Freiburg' 'Fulham' 'Genoa' 'Getafe' 'Granada' 'Groningen'\n",
            " 'Heerenveen' 'Heracles' 'Hertha' 'Hoffenheim' 'Huddersfield' 'Huesca'\n",
            " 'Inter' 'Juventus' 'Lazio' 'Leeds' 'Leicester' 'Levante' 'Leverkusen'\n",
            " 'Liverpool' 'Luton' \"M'gladbach\" 'Mainz' 'Man City' 'Man United'\n",
            " 'Middlesbrough' 'Milan' 'Millwall' 'Napoli' 'Newcastle' 'Norwich'\n",
            " \"Nott'm Forest\" 'Osasuna' 'PSV Eindhoven' 'Parma' 'Preston' 'QPR'\n",
            " 'RB Leipzig' 'Reading' 'Real Madrid' 'Roma' 'Rotherham' 'Sampdoria'\n",
            " 'Sassuolo' 'Schalke 04' 'Sevilla' 'Sheffield United' 'Sheffield Weds'\n",
            " 'Sociedad' 'Southampton' 'Sparta Rotterdam' 'Spezia' 'Stoke' 'Stuttgart'\n",
            " 'Swansea' 'Torino' 'Tottenham' 'Twente' 'Udinese' 'Union Berlin'\n",
            " 'Utrecht' 'VVV Venlo' 'Valencia' 'Valladolid' 'Verona' 'Villarreal'\n",
            " 'Vitesse' 'Waalwijk' 'Watford' 'Werder Bremen' 'West Brom' 'West Ham'\n",
            " 'Willem II' 'Wolfsburg' 'Wolves' 'Wycombe' 'Zwolle']\n"
          ],
          "name": "stdout"
        }
      ]
    },
    {
      "cell_type": "code",
      "metadata": {
        "id": "Qw0Gsw8BLHdY"
      },
      "source": [
        "goal_model_data = pd.concat([epl_1819[['HomeTeam','AwayTeam','HomeGoals']].assign(home=1).rename(columns={'HomeTeam':'team', 'AwayTeam':'opponent','HomeGoals':'goals'}),\n",
        "\t\t   epl_1819[['AwayTeam','HomeTeam','AwayGoals']].assign(home=0).rename(columns={'AwayTeam':'team', 'HomeTeam':'opponent','AwayGoals':'goals'})])\n",
        "\n",
        "poisson_model = smf.glm(formula=\"goals ~ home + team + opponent\", data=goal_model_data, family=sm.families.Poisson()).fit()\n",
        "\n",
        "\n",
        "\n",
        "\n",
        "def simulate_match(foot_model, homeTeam, awayTeam, max_goals=10):\n",
        "\thome_goals_avg = foot_model.predict(pd.DataFrame(data={'team': homeTeam, 'opponent': awayTeam,'home':1},index=[1])).values[0]\n",
        "\n",
        "\taway_goals_avg = foot_model.predict(pd.DataFrame(data={'team': awayTeam, 'opponent': homeTeam,'home':0},index=[1])).values[0]\n",
        "\n",
        "\tteam_pred = [[poisson.pmf(i, team_avg) for i in range(0, max_goals+1)] for team_avg in [home_goals_avg, away_goals_avg]]\n",
        "\n",
        "\treturn (np.outer(np.array(team_pred[0]), np.array(team_pred[1])))\n",
        "\n",
        "def print_match(simulation):\n",
        "\t#Home win\n",
        "\ta=np.sum(np.tril(simulation, -1))\n",
        "\t#Draw\n",
        "\tb=np.sum(np.diag(simulation))\n",
        "\t#Away WinWin\n",
        "\tc=np.sum(np.triu(simulation, 1))\n",
        "\tmaximum = max(a,b,c)\n",
        "\tif maximum == a:\n",
        "\t#\tprint(f\"Home wins @ {a}%\")\n",
        "\t#\tif b > c:\n",
        "\t\t#\tprint(f\"Draw 2nd @ {b}\")\n",
        "\t#\telif c > b:\n",
        "\t\t#\tprint(f\"Away 2nd @ {c}\")\n",
        "\n",
        "\t\treturn \"Home\"\n",
        "\telif maximum == b:\n",
        "\t\t#print(f\"Draw Wins @ {b}%\")\n",
        "\t\t#if a > c:\n",
        "\t\t#\tprint(f\"Home 2nd @ {a}\")\n",
        "\t\t#elif c > a:\n",
        "\t\t\t#print(f\"Away 2nd @ {c}\")\n",
        "\n",
        "\t\treturn \"Draw\"\n",
        "\telif maximum == c:\n",
        "\t\t#print(f\"Away Wins @ {c}%\")\n",
        "\t\t#if a > b:\n",
        "\t\t\t#print(f\"Home 2nd @ {a}\")\n",
        "\t\t#elif b > a:\n",
        "\t\t\t#print(f\"Draw 2nd @ {b}\")\n",
        "\t\treturn \"Away\"\n",
        "\n",
        "def print_match_2(simulation):\n",
        "\t#Home win\n",
        "\ta=np.sum(np.tril(simulation, -1))\n",
        "\t#Draw\n",
        "\tb=np.sum(np.diag(simulation))\n",
        "\t#Away Win\n",
        "\tc=np.sum(np.triu(simulation, 1))\n",
        "\tmaximum = max(a,b,c)\n",
        "\treturn maximum\n",
        "\n",
        "def print_match_3(simulation):\n",
        "\t#Home win\n",
        "\ta=np.sum(np.tril(simulation, -1))\n",
        "\t#Draw\n",
        "\tb=np.sum(np.diag(simulation))\n",
        "\t#Away Win\n",
        "\tc=np.sum(np.triu(simulation, 1))\n",
        "\tmaximum = max(a,b,c)\n",
        "\treturn f\"{a:.4f}, {b:.4f}, {c:.4f}\"\n",
        "\n",
        "def match_handicap(match, Home = True, Handicap = 1.5):\n",
        "\tcount = 0\n",
        "\tfor i in range(11):\n",
        "\t\tfor j in range(11):\n",
        "\t\t\tif Home == True:\n",
        "\t\t\t\tif i - j >= Handicap:\n",
        "\t\t\t\t\tcount += match[i][j]\n",
        "\t\t\telif Home == False:\n",
        "\t\t\t\tif j - i >= Handicap:\n",
        "\t\t\t\t\tcount+= match[i][j]\n",
        "\tprint(count)\n",
        "\treturn count\n",
        "\n",
        "def match_ou(match, Home = True, ou = 2.5, text = \"Over\"):\n",
        "\tcount = 0\n",
        "\tfor i in range(11):\n",
        "\t\tfor j in range(11):\n",
        "\t\t\tif text == \"Over\" or text == 'over':\n",
        "\t\t\t\tif Home == True:\n",
        "\t\t\t\t\tif i + j >= ou:\n",
        "\t\t\t\t\t\tcount += match[i][j]\n",
        "\t\t\t\telif Home == False:\n",
        "\t\t\t\t\tif j + i >= ou:\n",
        "\t\t\t\t\t\tcount+= match[i][j]\n",
        "\t\t#\telif text == \"Under\" or text == 'under':\n",
        "\t\t\t#\tif Home == True:\n",
        "\t\t\t#\t\tif i + j <= ou:\n",
        "\t\t\t\t\t#\tcount += match[i][j]\n",
        "\t\t\t#\telif Home == False:\n",
        "\t\t\t\t#\tif j + i <= ou:\n",
        "\t\t\t\t\t#\tcount+= match[i][j]\n",
        "\treturn count\n",
        "\n",
        "def PTS(simulation):\n",
        "\tPTS = []\n",
        "\thighest_prob = 0\n",
        "\thome_score = 0\n",
        "\taway_score = 0\n",
        "\tfor i in range(6):\n",
        "\t\tfor j in range (6):\n",
        "\t\t\tif simulation[i][j] < highest_prob:\n",
        "\t\t\t\tcontinue\n",
        "\t\t\telse:\n",
        "\t\t\t\thighest_prob = simulation[i][j]\n",
        "\t\t\t\thome_score = i\n",
        "\t\t\t\taway_score = j\n",
        "\n",
        "\tprint(f\"Probability of {home_score} - {away_score} happening: {highest_prob}\")\n",
        "\tPTS.append(home_score)\n",
        "\tPTS.append(away_score)\n",
        "\treturn PTS\n",
        "\n",
        "def PTS_1(simulation):\n",
        "\tPTS = []\n",
        "\thighest_prob = 0\n",
        "\thome_score = 0\n",
        "\taway_score = 0\n",
        "\tfor i in range(6):\n",
        "\t\tfor j in range (6):\n",
        "\t\t\tif simulation[i][j] < highest_prob:\n",
        "\t\t\t\tcontinue\n",
        "\t\t\telse:\n",
        "\t\t\t\thighest_prob = simulation[i][j]\n",
        "\t\t\t\thome_score = i\n",
        "\t\t\t\taway_score = j\n",
        "\n",
        "\t#print(f\"Probability of {home_score} - {away_score} happening: {highest_prob}\")\n",
        "\t#PTS.append(home_score)\n",
        "\t#PTS.append(away_score)\n",
        "\treturn highest_prob"
      ],
      "execution_count": 3,
      "outputs": []
    },
    {
      "cell_type": "code",
      "metadata": {
        "id": "3VW5wgUK_s5A"
      },
      "source": [
        "\n",
        "def rho_correction(x, y, lambda_x, mu_y, rho):\n",
        "    if x==0 and y==0:\n",
        "        return 1- (lambda_x * mu_y * rho)\n",
        "    elif x==0 and y==1:\n",
        "        return 1 + (lambda_x * rho)\n",
        "    elif x==1 and y==0:\n",
        "        return 1 + (mu_y * rho)\n",
        "    elif x==1 and y==1:\n",
        "        return 1 - rho\n",
        "    else:\n",
        "        return 1.0\n",
        "\n",
        "def dc_log_like(x, y, alpha_x, beta_x, alpha_y, beta_y, rho, gamma):\n",
        "    lambda_x, mu_y = np.exp(alpha_x + beta_y + gamma), np.exp(alpha_y + beta_x) \n",
        "    return (np.log(rho_correction(x, y, lambda_x, mu_y, rho)) + \n",
        "            np.log(poisson.pmf(x, lambda_x)) + np.log(poisson.pmf(y, mu_y)))\n",
        "def solve_parameters(dataset, debug = False, init_vals=None, options={'disp': True, 'maxiter':100},\n",
        "                     constraints = [{'type':'eq', 'fun': lambda x: sum(x[:20])-20}] , **kwargs):\n",
        "    teams = np.sort(dataset['HomeTeam'].unique())\n",
        "    # check for no weirdness in dataset\n",
        "    away_teams = np.sort(dataset['AwayTeam'].unique())\n",
        "    if not np.array_equal(teams, away_teams):\n",
        "        raise ValueError(\"Something's not right\")\n",
        "    n_teams = len(teams)\n",
        "    if init_vals is None:\n",
        "        # random initialisation of model parameters\n",
        "        init_vals = np.concatenate((np.random.uniform(0,1,(n_teams)), # attack strength\n",
        "                                      np.random.uniform(0,-1,(n_teams)), # defence strength\n",
        "                                      np.array([0, 1.0]) # rho (score correction), gamma (home advantage)\n",
        "                                     ))\n",
        "    def dc_log_like(x, y, alpha_x, beta_x, alpha_y, beta_y, rho, gamma):\n",
        "        lambda_x, mu_y = np.exp(alpha_x + beta_y + gamma), np.exp(alpha_y + beta_x) \n",
        "        return (np.log(rho_correction(x, y, lambda_x, mu_y, rho)) + \n",
        "                np.log(poisson.pmf(x, lambda_x)) + np.log(poisson.pmf(y, mu_y)))\n",
        "\n",
        "    def estimate_paramters(params):\n",
        "        score_coefs = dict(zip(teams, params[:n_teams]))\n",
        "        defend_coefs = dict(zip(teams, params[n_teams:(2*n_teams)]))\n",
        "        rho, gamma = params[-2:]\n",
        "        log_like = [dc_log_like(row.HomeGoals, row.AwayGoals, score_coefs[row.HomeTeam], defend_coefs[row.HomeTeam],\n",
        "                     score_coefs[row.AwayTeam], defend_coefs[row.AwayTeam], rho, gamma) for row in dataset.itertuples()]\n",
        "        return -sum(log_like)\n",
        "    opt_output = minimize(estimate_paramters, init_vals, options=options, constraints = constraints, **kwargs)\n",
        "    if debug:\n",
        "        # sort of hacky way to investigate the output of the optimisation process\n",
        "        return opt_output\n",
        "    else:\n",
        "        return dict(zip([\"attack_\"+team for team in teams] + \n",
        "                        [\"defence_\"+team for team in teams] +\n",
        "                        ['rho', 'home_adv'],\n",
        "                        opt_output.x))\n",
        "#params = solve_parameters(epl_1819)\n",
        "\n",
        "##Update Params at 8 August 2020 W/ MLS\n",
        "#params"
      ],
      "execution_count": 4,
      "outputs": []
    },
    {
      "cell_type": "code",
      "metadata": {
        "id": "TRB1VMl0LNRu",
        "colab": {
          "base_uri": "https://localhost:8080/"
        },
        "outputId": "e37c92d8-2b70-42c8-9380-6229512f80e3"
      },
      "source": [
        "value = 100\n",
        "total_games = 0\n",
        "win_games = 0\n",
        "\n",
        "big_win_games = 0\n",
        "small_win_games = 0\n",
        "medium_win_games = 0\n",
        "\n",
        "total_big_games = 0\n",
        "total_small_games = 0\n",
        "total_medium_games = 0\n",
        "\n",
        "\n",
        "big_threshold = 0.7\n",
        "small_threshold = 0.4\n",
        "\n",
        "big_list = []\n",
        "big_count_list = []\n",
        "small_list = []\n",
        "small_count_list = []\n",
        "\n",
        "\n",
        "#for i in range(70,90):\n",
        "for i in range(1):\n",
        "\t#big_threshold = i/100\n",
        "\t#print(\"big is now:\", big_threshold)\n",
        "\tfor j in range(1):\n",
        "\t#for j in range(45,50):\n",
        "\t\t#if j < i:\n",
        "\t\t#small_threshold = j/100\n",
        "\t\t#else:\n",
        "\t\t\t#continue\n",
        "\n",
        "\t\tprint(\"small is now:\", small_threshold)\n",
        "\n",
        "\t\tbig_win_games = 0\n",
        "\t\tsmall_win_games = 0\n",
        "\t\tmedium_win_games = 0\n",
        "\n",
        "\t\ttotal_big_games = 0\n",
        "\t\ttotal_small_games = 0\n",
        "\t\ttotal_medium_games = 0\n",
        "\n",
        "\t\tfor index, row in epl_1819.iterrows():\n",
        "\t\t\thome_team = row['HomeTeam']\n",
        "\t\t\thome_goals = row['HomeGoals']\n",
        "\t\t\taway_team = row['AwayTeam']\n",
        "\t\t\taway_goals = row[\"AwayGoals\"]\n",
        "\t\t\t#sim = simulate_match(home_team, away_team)\n",
        "\t\t\ttry:\n",
        "\t\t\t\tsim = simulate_match(poisson_model, home_team, away_team, max_goals=10)\n",
        "\t\t\texcept:\n",
        "\t\t\t\tcontinue\n",
        "\t    \n",
        "\n",
        "\t\t\tif print_match_2(sim) >= big_threshold:\n",
        "\t\t\t\tvalue_mult = 0.5\n",
        "\t\t\t\ttotal_big_games += 1\n",
        "\t\t\telif print_match_2(sim) < big_threshold and print_match_2(sim) >= small_threshold:\n",
        "\t\t\t\tvalue_mult = 0\n",
        "\t\t\t\ttotal_medium_games += 1\n",
        "\t\t\telif print_match_2(sim) < small_threshold:\n",
        "\t\t\t\tvalue_mult = 0\n",
        "\t\t\t\ttotal_small_games += 1\n",
        "\t\t\t\t\n",
        "\t\t\tif home_goals > away_goals:\n",
        "\t\t\t\tif print_match(sim) == \"Home\":\n",
        "\t\t\t\t\tvalue += value_mult\n",
        "\t\t\t\t\twin_games += 1\n",
        "\t\t\t\t\tif print_match_2(sim) >= big_threshold:\n",
        "\t\t\t\t\t\tbig_win_games += 1\n",
        "\t\t\t\t\telif print_match_2(sim) < big_threshold and print_match_2(sim) >= small_threshold:\n",
        "\t\t\t\t\t\tmedium_win_games += 1\n",
        "\t\t\t\t\telif print_match_2(sim) < small_threshold:\n",
        "\t\t\t\t\t\tsmall_win_games += 1\n",
        "\t\t\t\telse:\n",
        "\t\t\t\t\tvalue -= value_mult*5\n",
        "\t\t\t\ttotal_games += 1\n",
        "\t\t\telif away_goals > home_goals:\n",
        "\t\t\t\tif print_match(sim) == \"Away\":\n",
        "\t\t\t\t\tvalue += value_mult\n",
        "\t\t\t\t\twin_games += 1 \n",
        "\t\t\t\t\tif print_match_2(sim) >= big_threshold:\n",
        "\t\t\t\t\t\tbig_win_games += 1\n",
        "\t\t\t\t\telif print_match_2(sim) < big_threshold and print_match_2(sim) >= small_threshold:\n",
        "\t\t\t\t\t\tmedium_win_games += 1\n",
        "\t\t\t\t\telif print_match_2(sim) < small_threshold:\n",
        "\t\t\t\t\t\tsmall_win_games += 1\n",
        "\t\t\t\telse:\n",
        "\t\t\t\t\tvalue -= value_mult\n",
        "\t\t\t\ttotal_games += 1\n",
        "\t\t\telif away_goals == home_goals:\n",
        "\t\t\t\tif print_match(sim) == \"Draw\":\n",
        "\t\t\t\t\tvalue += value_mult\n",
        "\t\t\t\t\twin_games += 1 \n",
        "\t\t\t\t\tif print_match_2(sim) >= big_threshold:\n",
        "\t\t\t\t\t\tbig_win_games += 1\n",
        "\t\t\t\t\telif print_match_2(sim) < big_threshold and print_match_2(sim) >= small_threshold:\n",
        "\t\t\t\t\t\tmedium_win_games += 1\n",
        "\t\t\t\t\telif print_match_2(sim) < small_threshold:\n",
        "\t\t\t\t\t\tsmall_win_games += 1\n",
        "\t\t\t\t\t\t\n",
        "\t\t\t\telse:\n",
        "\t\t\t\t\tvalue -= value_mult\n",
        "\t\t\t\ttotal_games += 1\n",
        "\t\ttry:\n",
        "\t\t\tbig_list.append(big_win_games/total_big_games)\n",
        "\t\t\tbig_count_list.append(big_threshold)\n",
        "\n",
        "\t\t\tsmall_list.append(small_win_games/total_small_games)\n",
        "\t\t\tsmall_count_list.append(small_threshold)\n",
        "\t\texcept:\n",
        "\t\t\tpass\n",
        "\n",
        "\n",
        "\n",
        "\tprint(f'Value = {value}')\n",
        "\tprint(f'Won games = {win_games}, Total Games = {total_games}, {(win_games*100)/total_games}% Accuracy')\n",
        "\t#print(f'Won big games = {big_win_games}, Total Games = {total_big_games}, {(big_win_games*100)/total_big_games}% Accuracy')\n",
        "\t#print(f'Won small games = {small_win_games}, Total Games = {total_small_games}, {(small_win_games*100)/total_small_games}% Accuracy')\n",
        "\t#print(f'Won medium games = {medium_win_games}, Total Games = {total_medium_games}, {(medium_win_games*100)/total_medium_games}% Accuracy')"
      ],
      "execution_count": 5,
      "outputs": [
        {
          "output_type": "stream",
          "text": [
            "small is now: 0.4\n",
            "Value = 173.0\n",
            "Won games = 1237, Total Games = 2304, 53.689236111111114% Accuracy\n"
          ],
          "name": "stdout"
        }
      ]
    },
    {
      "cell_type": "code",
      "metadata": {
        "id": "utjoLE5HLWEf",
        "colab": {
          "base_uri": "https://localhost:8080/"
        },
        "outputId": "1d798983-81a3-4aa9-f41e-cae555f022a3"
      },
      "source": [
        "total_ou_game = 0\n",
        "win_ou_game = 0 \n",
        "\n",
        "total_ou_big = 0\n",
        "win_ou_big = 0\n",
        "\n",
        "total_ou_small = 0\n",
        "win_ou_small = 0\n",
        "\n",
        "total_ou_custom = 0\n",
        "win_ou_custom = 0\n",
        "\n",
        "for index, row in epl_1819.iterrows():\n",
        "\n",
        "\thome_team = row['HomeTeam']\n",
        "\thome_goals = row['HomeGoals']\n",
        "\taway_team = row['AwayTeam']\n",
        "\taway_goals = row[\"AwayGoals\"]\n",
        "  #sim = simulate_match(home_team, away_team)\n",
        "\ttry:\n",
        "\t\tsim = simulate_match(poisson_model, home_team, away_team, max_goals=10)\n",
        "\texcept:\n",
        "\t\tcontinue\n",
        "\tmatch_over = match_ou(sim)\n",
        "\tactual_ou = home_goals + away_goals\n",
        "\ttotal_ou_game += 1\n",
        "\n",
        "\tif match_over < 0.5:\n",
        "\t\ttotal_ou_small += 1\n",
        "\t\tif actual_ou < 2.5:\n",
        "\t\t\twin_ou_small += 1\n",
        "\n",
        "\tif match_over >= 0.5 and actual_ou > 2.5:\n",
        "\t\twin_ou_game += 1\n",
        "\n",
        "\tif match_over >= 0.7:\n",
        "\t\ttotal_ou_big += 1\n",
        "\t\tif actual_ou >2.5:\n",
        "\t\t\twin_ou_big += 1\n",
        "\n",
        "\tif match_over >= 0.35 and match_over < 0.4:\n",
        "\t\ttotal_ou_custom += 1\n",
        "\t\tif actual_ou <= 2.5:\n",
        "\t\t\twin_ou_custom += 1\n",
        "\t#elif match_over < 0.5 and actual_ou < 2.5:\n",
        "\t\t#win_ou_game += 1\n",
        "\n",
        "print(f\"Over/Under accuracy: {win_ou_game*100 / total_ou_game}%\")\n",
        "print(f\"Over/Under accuracy less than 0.5: {win_ou_small*100 / total_ou_small}%;; {win_ou_small} over {total_ou_small}\")\n",
        "#print(f\"Over/Under accuracy more than 0.7: {win_ou_big*100 / total_ou_big}%;; {win_ou_big} over {total_ou_big}\")\n",
        "#print(f\"Over/Under accuracy for custom: {win_ou_custom*100 / total_ou_custom}%;; {win_ou_custom} over {total_ou_custom}\")"
      ],
      "execution_count": 6,
      "outputs": [
        {
          "output_type": "stream",
          "text": [
            "Over/Under accuracy: 29.296875%\n",
            "Over/Under accuracy less than 0.5: 59.966358284272495%;; 713 over 1189\n"
          ],
          "name": "stdout"
        }
      ]
    },
    {
      "cell_type": "code",
      "metadata": {
        "id": "692K5tGWqX9Z"
      },
      "source": [
        "overall_win_x_axis = []\n",
        "for i in range(35,95,5):\n",
        "  overall_win_x_axis.append(i/100)"
      ],
      "execution_count": 7,
      "outputs": []
    },
    {
      "cell_type": "code",
      "metadata": {
        "id": "J9bCCgxfAK9p",
        "colab": {
          "base_uri": "https://localhost:8080/"
        },
        "outputId": "fe9f95d1-67d0-420f-cd35-91f88b3fb36b"
      },
      "source": [
        "overall_win_x_axis"
      ],
      "execution_count": 8,
      "outputs": [
        {
          "output_type": "execute_result",
          "data": {
            "text/plain": [
              "[0.35, 0.4, 0.45, 0.5, 0.55, 0.6, 0.65, 0.7, 0.75, 0.8, 0.85, 0.9]"
            ]
          },
          "metadata": {
            "tags": []
          },
          "execution_count": 8
        }
      ]
    },
    {
      "cell_type": "code",
      "metadata": {
        "id": "lYWIXBRwA90V",
        "colab": {
          "base_uri": "https://localhost:8080/"
        },
        "outputId": "c99c2686-119a-412c-db70-6b4e67fc72aa"
      },
      "source": [
        "overall_actual_win_y = []\n",
        "\n",
        "for i in overall_win_x_axis:\n",
        "  big_win_games = 0\n",
        "  small_win_games = 0\n",
        "  medium_win_games = 0\n",
        "  total_big_games = 0\n",
        "  total_small_games = 0\n",
        "  total_medium_games = 0\n",
        "  big_threshold = i+0.05\n",
        "  small_threshold = i\n",
        "  value = 100\n",
        "  print(big_threshold)\n",
        "  \n",
        "  for index, row in epl_1819.iterrows():\n",
        "    home_team = row['HomeTeam']\n",
        "    home_goals = row['HomeGoals']\n",
        "    away_team = row['AwayTeam']\n",
        "    away_goals = row[\"AwayGoals\"]\n",
        "    #sim = simulate_match(home_team, away_team)\n",
        "    try:\n",
        "      sim = simulate_match(poisson_model, home_team, away_team, max_goals=10)    \n",
        "    except:\n",
        "      continue    \n",
        "    \n",
        "    if print_match_2(sim) >= big_threshold:\n",
        "      total_big_games += 1\n",
        "    elif print_match_2(sim) < big_threshold and print_match_2(sim) >= small_threshold:\n",
        "      total_medium_games += 1\n",
        "    elif print_match_2(sim) < small_threshold:\n",
        "      total_small_games += 1\n",
        "    \n",
        "    if home_goals > away_goals:\n",
        "      if print_match(sim) == \"Home\":\n",
        "        value += value_mult\n",
        "        win_games += 1\n",
        "        if print_match_2(sim) >= big_threshold:\n",
        "          big_win_games += 1\n",
        "        elif print_match_2(sim) < big_threshold and print_match_2(sim) >= small_threshold:\n",
        "          medium_win_games += 1\n",
        "        elif print_match_2(sim) < small_threshold:\n",
        "          small_win_games += 1\n",
        "      else:\n",
        "        value -= value_mult\n",
        "      total_games += 1\n",
        "    elif away_goals > home_goals:\n",
        "      if print_match(sim) == \"Away\":\n",
        "        value += value_mult\n",
        "        win_games += 1 \n",
        "        if print_match_2(sim) >= big_threshold:\n",
        "          big_win_games += 1\n",
        "        elif print_match_2(sim) < big_threshold and print_match_2(sim) >= small_threshold:\n",
        "          medium_win_games += 1\n",
        "        elif print_match_2(sim) < small_threshold:\n",
        "          small_win_games += 1\n",
        "      else:\n",
        "        value -= value_mult\n",
        "      total_games += 1\n",
        "    elif away_goals == home_goals:\n",
        "      if print_match(sim) == \"Draw\":\n",
        "        value += value_mult\n",
        "        win_games += 1 \n",
        "        if print_match_2(sim) >= big_threshold:\n",
        "          big_win_games += 1\n",
        "        elif print_match_2(sim) < big_threshold and print_match_2(sim) >= small_threshold:\n",
        "          medium_win_games += 1\n",
        "        elif print_match_2(sim) < small_threshold:\n",
        "          small_win_games += 1\n",
        "          \n",
        "      else:\n",
        "        value -= value_mult\n",
        "      total_games += 1\n",
        "  try:\n",
        "    big_list.append(big_win_games/total_big_games)\n",
        "    big_count_list.append(big_threshold)\n",
        "    small_list.append(small_win_games/total_small_games)\n",
        "    small_count_list.append(small_threshold)\n",
        "  except:\n",
        "    pass\n",
        "\n",
        "  try:\n",
        "    overall_actual_win_y.append((medium_win_games*100)/total_medium_games)\n",
        "  except:\n",
        "    overall_actual_win_y.append(0)"
      ],
      "execution_count": null,
      "outputs": [
        {
          "output_type": "stream",
          "text": [
            "0.39999999999999997\n"
          ],
          "name": "stdout"
        }
      ]
    },
    {
      "cell_type": "code",
      "metadata": {
        "id": "jJ-gfKnXDd26"
      },
      "source": [
        "overall_actual_win_y"
      ],
      "execution_count": null,
      "outputs": []
    },
    {
      "cell_type": "code",
      "metadata": {
        "id": "r85QdcdA0KK5"
      },
      "source": [
        "plt.plot(overall_win_x_axis,overall_actual_win_y,\".\")"
      ],
      "execution_count": null,
      "outputs": []
    },
    {
      "cell_type": "code",
      "metadata": {
        "id": "wP3bG5lNDEwj"
      },
      "source": [
        "overall_win_x_axis_array = np.array(overall_win_x_axis).reshape((-1, 1))\n",
        "overall_actual_win_y_array = np.array(overall_actual_win_y)\n",
        "overall_win_model = LinearRegression().fit(overall_win_x_axis_array,overall_actual_win_y_array)\n",
        "r_sq = overall_win_model.score(overall_win_x_axis_array, overall_actual_win_y_array)\n",
        "print('coefficient of determination:', r_sq)"
      ],
      "execution_count": null,
      "outputs": []
    },
    {
      "cell_type": "code",
      "metadata": {
        "id": "m5UXAZJC4TdB"
      },
      "source": [
        "plt.plot(overall_win_x_axis,overall_actual_win_y,\".\")\n",
        "plt.plot(overall_win_x_axis_array, overall_win_model.predict(overall_win_x_axis_array))\n",
        "plt.plot(overall_win_x_axis, np.array(overall_win_x_axis)*100)\n",
        "plt.show()\n"
      ],
      "execution_count": null,
      "outputs": []
    },
    {
      "cell_type": "code",
      "metadata": {
        "id": "tQXRO-6qYvBB"
      },
      "source": [
        "print(overall_win_x_axis)\n",
        "print(overall_actual_win_y)"
      ],
      "execution_count": null,
      "outputs": []
    },
    {
      "cell_type": "code",
      "metadata": {
        "id": "XZ3CDxO0ZEr3"
      },
      "source": [
        "import csv\n",
        "\n",
        "with open('overall_win.csv', mode = 'w', newline='\\n') as file:\n",
        "\tFwriter = csv.writer(file, delimiter=',')\n",
        "\tFwriter.writerow(['x']+(['y']))\n",
        "\tcount = 0\n",
        "\tfor index in range(len(overall_win_x_axis)):\n",
        "\t\tFwriter.writerow([overall_win_x_axis[index]] + [overall_actual_win_y[index]])\n",
        "\t\tcount += 1\n",
        "\t\tprint(count)\n",
        "print(\"Done~\")\n"
      ],
      "execution_count": null,
      "outputs": []
    },
    {
      "cell_type": "code",
      "metadata": {
        "id": "-bmv_Yj21C-d"
      },
      "source": [
        "overall_ou_x_axis = []\n",
        "for i in range(15,95,5):\n",
        "  overall_ou_x_axis.append(i/100)"
      ],
      "execution_count": null,
      "outputs": []
    },
    {
      "cell_type": "code",
      "metadata": {
        "id": "tDt2usKO0qpY"
      },
      "source": [
        "'''overall_ou_win_y = []\n",
        "for i in overall_ou_x_axis:\n",
        "  total_ou_game = 0\n",
        "  win_ou_game = 0 \n",
        "\n",
        "  total_ou_big = 0\n",
        "  win_ou_big = 0\n",
        "\n",
        "  total_ou_small = 0\n",
        "  win_ou_small = 0\n",
        "\n",
        "  total_ou_custom = 0\n",
        "  win_ou_custom = 0\n",
        "  ou_big_thresh = i +0.05\n",
        "  ou_small_thresh = i\n",
        "  print(ou_big_thresh)\n",
        "\n",
        "  for index, row in epl_1819.iterrows():\n",
        "\n",
        "    home_team = row['HomeTeam']\n",
        "    home_goals = row['HomeGoals']\n",
        "    away_team = row['AwayTeam']\n",
        "    away_goals = row[\"AwayGoals\"]\n",
        "    sim = simulate_match(poisson_model, home_team, away_team, max_goals=10)\n",
        "    match_over = match_ou(sim)\n",
        "    actual_ou = home_goals + away_goals\n",
        "    total_ou_game += 1\n",
        "\n",
        "    if match_over >= ou_small_thresh and match_over < ou_big_thresh:\n",
        "      total_ou_custom += 1\n",
        "      #if actual_ou <= 2.5 and match_over < 0.5:\n",
        "        #win_ou_custom += 1\n",
        "      #elif actual_ou >= 2.5 and match_over > 0.5:\n",
        "      if actual_ou >= 2.5:\n",
        "        win_ou_custom += 1\n",
        "    #elif match_over < 0.5 and actual_ou < 2.5:\n",
        "      #win_ou_game += 1\n",
        "  try:\n",
        "    overall_ou_win_y.append(win_ou_custom*100 / total_ou_custom)\n",
        "  except:\n",
        "    continue\n",
        "'''"
      ],
      "execution_count": null,
      "outputs": []
    },
    {
      "cell_type": "code",
      "metadata": {
        "id": "6AQPJCFBjEmd"
      },
      "source": [
        "overall_ou_win_y = []\n",
        "ou_win_y_2 = []\n",
        "ou_win_y_25 = []\n",
        "ou_win_y_3 = []\n",
        "ou_win_y_35 = []\n",
        "ou_win_y_4 = []\n",
        "ou_win_y_45 = []\n",
        "ou_win_y_5 = []\n",
        "ou_win_y_55 = []\n",
        "ou_win_y_6= []\n",
        "ou_win_y_65 = []\n",
        "ou_win_y_7 = []\n",
        "ou_win_y_75 = []\n",
        "ou_win_y_8 = []\n",
        "ou_win_y_85 = []\n",
        "ou_win_y_9 = []\n",
        "ou_win_y_95 = []\n",
        "\n",
        "for index, row in epl_1819.iterrows():\n",
        "\n",
        "  home_team = row['HomeTeam']\n",
        "  home_goals = row['HomeGoals']\n",
        "  away_team = row['AwayTeam']\n",
        "  away_goals = row[\"AwayGoals\"]\n",
        "  #sim = simulate_match(home_team, away_team)\n",
        "  sim = simulate_match(poisson_model, home_team, away_team, max_goals=10)\n",
        "  match_over = match_ou(sim)\n",
        "  actual_ou = home_goals + away_goals\n",
        "  total_ou_game += 1\n",
        "  if match_over >= 0.15 and match_over < 0.2:\n",
        "    if actual_ou >= 2.5:\n",
        "      ou_win_y_2.append(1)\n",
        "    else:\n",
        "      ou_win_y_2.append(0)\n",
        "\n",
        "  elif match_over >= 0.2 and match_over < 0.25:\n",
        "    if actual_ou >= 2.5:\n",
        "      ou_win_y_25.append(1)\n",
        "    else:\n",
        "      ou_win_y_25.append(0)\n",
        "\n",
        "  elif match_over >= 0.25 and match_over < 0.3:\n",
        "    if actual_ou >= 2.5:\n",
        "      ou_win_y_3.append(1)\n",
        "    else:\n",
        "      ou_win_y_3.append(0)\n",
        "\n",
        "  elif match_over >= 0.3 and match_over < 0.35:\n",
        "    if actual_ou >= 2.5:\n",
        "      ou_win_y_35.append(1)\n",
        "    else:\n",
        "      ou_win_y_35.append(0)\n",
        "\n",
        "  elif match_over >= 0.35 and match_over < 0.4:\n",
        "    if actual_ou >= 2.5:\n",
        "      ou_win_y_4.append(1)\n",
        "    else:\n",
        "      ou_win_y_4.append(0)\n",
        "\n",
        "  elif match_over >= 0.4 and match_over < 0.45:\n",
        "    if actual_ou >= 2.5:\n",
        "      ou_win_y_45.append(1)\n",
        "    else:\n",
        "      ou_win_y_45.append(0)\n",
        "\n",
        "  elif match_over >= 0.45 and match_over < 0.5:\n",
        "    if actual_ou >= 2.5:\n",
        "      ou_win_y_5.append(1)\n",
        "    else:\n",
        "      ou_win_y_5.append(0)\n",
        "\n",
        "  elif match_over >= 0.5 and match_over < 0.55:\n",
        "    if actual_ou >= 2.5:\n",
        "      ou_win_y_55.append(1)\n",
        "    else:\n",
        "      ou_win_y_55.append(0)\n",
        "\n",
        "  elif match_over >= 0.55 and match_over < 0.6:\n",
        "    if actual_ou >= 2.5:\n",
        "      ou_win_y_6.append(1)\n",
        "    else:\n",
        "      ou_win_y_6.append(0)\n",
        "\n",
        "  elif match_over >= 0.6 and match_over < 0.65:\n",
        "    if actual_ou >= 2.5:\n",
        "      ou_win_y_65.append(1)\n",
        "    else:\n",
        "      ou_win_y_65.append(0)\n",
        "  elif match_over >= 0.65 and match_over < 0.7:\n",
        "    if actual_ou >= 2.5:\n",
        "      ou_win_y_7.append(1)\n",
        "    else:\n",
        "      ou_win_y_7.append(0)\n",
        "\n",
        "  elif match_over >= 0.7 and match_over < 0.75:\n",
        "    if actual_ou >= 2.5:\n",
        "      ou_win_y_75.append(1)\n",
        "    else:\n",
        "      ou_win_y_75.append(0)\n",
        "\n",
        "  elif match_over >= 0.75 and match_over < 0.8:\n",
        "    if actual_ou >= 2.5:\n",
        "      ou_win_y_8.append(1)\n",
        "    else:\n",
        "      ou_win_y_8.append(0)\n",
        "\n",
        "  elif match_over >= 0.8 and match_over < 0.85:\n",
        "    if actual_ou >= 2.5:\n",
        "      ou_win_y_85.append(1)\n",
        "    else:\n",
        "      ou_win_y_85.append(0)\n",
        "\n",
        "  elif match_over >= 0.85 and match_over < 0.9:\n",
        "    if actual_ou >= 2.5:\n",
        "      ou_win_y_9.append(1)\n",
        "    else:\n",
        "      ou_win_y_9.append(0)\n",
        "\n",
        "  elif match_over >= 0.9 and match_over < 0.95:\n",
        "    if actual_ou >= 2.5:\n",
        "      ou_win_y_95.append(1)\n",
        "    else:\n",
        "      ou_win_y_95.append(0)\n",
        "\n",
        "def average_func(lst):\n",
        "  try:\n",
        "    overall_ou_win_y.append((sum(lst)/len(lst))*100)\n",
        "  except:\n",
        "    overall_ou_win_y.append(0)\n",
        "\n",
        "average_func(ou_win_y_2)\n",
        "average_func(ou_win_y_25)\n",
        "average_func(ou_win_y_3)\n",
        "average_func(ou_win_y_35)\n",
        "average_func(ou_win_y_4)\n",
        "average_func(ou_win_y_45)\n",
        "average_func(ou_win_y_5)\n",
        "average_func(ou_win_y_55)\n",
        "average_func(ou_win_y_6)\n",
        "average_func(ou_win_y_65)\n",
        "average_func(ou_win_y_7)\n",
        "average_func(ou_win_y_75)\n",
        "average_func(ou_win_y_8)\n",
        "average_func(ou_win_y_85)\n",
        "average_func(ou_win_y_9)\n",
        "average_func(ou_win_y_95)"
      ],
      "execution_count": null,
      "outputs": []
    },
    {
      "cell_type": "code",
      "metadata": {
        "id": "RuPZ5UOiHuQ0"
      },
      "source": [
        "overall_ou_x_axis"
      ],
      "execution_count": null,
      "outputs": []
    },
    {
      "cell_type": "code",
      "metadata": {
        "id": "5T65hEOEHm34"
      },
      "source": [
        "overall_ou_win_y"
      ],
      "execution_count": null,
      "outputs": []
    },
    {
      "cell_type": "code",
      "metadata": {
        "id": "_hsJPTBj2Byb"
      },
      "source": [
        "plt.plot(overall_ou_x_axis,overall_ou_win_y,\".\")"
      ],
      "execution_count": null,
      "outputs": []
    },
    {
      "cell_type": "code",
      "metadata": {
        "id": "Rm1Q7JUyE7br"
      },
      "source": [
        "overall_ou_x_axis_array = np.array(overall_ou_x_axis).reshape((-1,1))\n",
        "overall_ou_win_y_array = np.array(overall_ou_win_y)\n",
        "overall_ou_model = LinearRegression().fit(overall_ou_x_axis_array, overall_ou_win_y_array)\n",
        "r_sq = overall_ou_model.score(overall_ou_x_axis_array, overall_ou_win_y_array)\n",
        "print('coefficient of determination:', r_sq)"
      ],
      "execution_count": null,
      "outputs": []
    },
    {
      "cell_type": "code",
      "metadata": {
        "id": "SxvFzuYS2L2x"
      },
      "source": [
        "plt.plot(overall_ou_x_axis,overall_ou_win_y,\".\")\n",
        "plt.plot(overall_ou_x_axis,overall_ou_model.predict(overall_ou_x_axis_array))\n",
        "plt.plot(overall_win_x_axis, np.array(overall_win_x_axis)*100)\n",
        "plt.show()"
      ],
      "execution_count": null,
      "outputs": []
    },
    {
      "cell_type": "code",
      "metadata": {
        "id": "BrleYYmtrioA"
      },
      "source": [
        "def kelly(bm_odds,percentage_win,bankroll = 100):\n",
        "  percentage_win = percentage_win/100\n",
        "  return percentage_win - (1-percentage_win)/(bm_odds-1)"
      ],
      "execution_count": null,
      "outputs": []
    },
    {
      "cell_type": "code",
      "metadata": {
        "id": "lxaQRiGCn92e"
      },
      "source": [
        "def final_output(Home_team, Away_team):\n",
        "  match = simulate_match(poisson_model, Home_team, Away_team)\n",
        "  #match = simulate_match(Home_team, Away_team)\n",
        "  input_predict = np.array(print_match_2(match)).reshape((-1, 1))\n",
        "  input_predict_ou = np.array(match_ou(match)).reshape((-1,1))\n",
        "  ou_transformed = PolynomialFeatures(degree=2, include_bias=False).fit_transform(input_predict_ou)\n",
        "  print(PTS(match))\n",
        "  #print(match_ou(match))\n",
        "  print(print_match(match))#, print_match_2(match), f\"Implied odds: {1/print_match_2(match)}\")\n",
        "  #print(print_match_3(match), \"\\n\")\n",
        "  print(f'Statistically ML: {float(overall_win_model.predict(input_predict)):.3f}%, Implied odds: {float(1/(overall_win_model.predict(input_predict)/100)):.3f}')\n",
        "  print(f'Statistically O2.5: {float(overall_ou_model.predict(input_predict_ou)):.3f}%, Implied odds: {float(1/(overall_ou_model.predict(input_predict_ou)/100)):.3f}')\n",
        "  print(f'Statistically U2.5: {float(100-overall_ou_model.predict(input_predict_ou)):.3f}%, Implied odds: {float(1/((100-overall_ou_model.predict(input_predict_ou))/100)):.3f}')\n"
      ],
      "execution_count": null,
      "outputs": []
    },
    {
      "cell_type": "code",
      "metadata": {
        "id": "cWGUSDEauVa7"
      },
      "source": [
        "print(np.sort(epl_1819.HomeTeam.unique()))"
      ],
      "execution_count": null,
      "outputs": []
    },
    {
      "cell_type": "code",
      "metadata": {
        "id": "GmEZntRFf596"
      },
      "source": [
        "##Norway"
      ],
      "execution_count": null,
      "outputs": []
    },
    {
      "cell_type": "code",
      "metadata": {
        "id": "tUmBwXfBf4Ny"
      },
      "source": [
        "final_output('Mjondalen', 'Molde')"
      ],
      "execution_count": null,
      "outputs": []
    },
    {
      "cell_type": "code",
      "metadata": {
        "id": "PD1V66Cyf4c6"
      },
      "source": [
        "final_output('Kristiansund', 'Lillestrom')"
      ],
      "execution_count": null,
      "outputs": []
    },
    {
      "cell_type": "code",
      "metadata": {
        "id": "AOgAu7lHf_2R"
      },
      "source": [
        "final_output('Odd', 'Bodo/Glimt')"
      ],
      "execution_count": null,
      "outputs": []
    },
    {
      "cell_type": "code",
      "metadata": {
        "id": "ebGTFlPcgIZO"
      },
      "source": [
        "final_output('Rosenborg', 'Stabaek')"
      ],
      "execution_count": null,
      "outputs": []
    },
    {
      "cell_type": "code",
      "metadata": {
        "id": "aIDUI4qtgLb3"
      },
      "source": [
        "final_output('Brann', 'Stromsgodset')"
      ],
      "execution_count": null,
      "outputs": []
    },
    {
      "cell_type": "code",
      "metadata": {
        "id": "FCHJqHrXgPl6"
      },
      "source": [
        "final_output('Tromso', 'Sarpsborg 08')"
      ],
      "execution_count": null,
      "outputs": []
    },
    {
      "cell_type": "code",
      "metadata": {
        "id": "84-MQXNUgRMe"
      },
      "source": [
        "final_output('Valerenga', 'Sandefjord')"
      ],
      "execution_count": null,
      "outputs": []
    },
    {
      "cell_type": "code",
      "metadata": {
        "id": "2Qi0UQjpgStV"
      },
      "source": [
        "final_output('Haugesund', 'Viking')"
      ],
      "execution_count": null,
      "outputs": []
    },
    {
      "cell_type": "code",
      "metadata": {
        "id": "UuuRONP3gWOh"
      },
      "source": [
        "#MLS"
      ],
      "execution_count": null,
      "outputs": []
    },
    {
      "cell_type": "code",
      "metadata": {
        "id": "BvXG37QlgXxh"
      },
      "source": [
        "final_output('Philadelphia Union', 'Portland Timbers')"
      ],
      "execution_count": null,
      "outputs": []
    },
    {
      "cell_type": "code",
      "metadata": {
        "id": "CeyZeB1pgepI"
      },
      "source": [
        "final_output('Seattle Sounders', 'Austin FC')"
      ],
      "execution_count": null,
      "outputs": []
    },
    {
      "cell_type": "code",
      "metadata": {
        "id": "uBLwuoLag00K"
      },
      "source": [
        "final_output('Cruz Azul', 'Santos Laguna')"
      ],
      "execution_count": null,
      "outputs": []
    },
    {
      "cell_type": "code",
      "metadata": {
        "id": "YdxpMsw9g5Uo"
      },
      "source": [
        ""
      ],
      "execution_count": null,
      "outputs": []
    }
  ]
}